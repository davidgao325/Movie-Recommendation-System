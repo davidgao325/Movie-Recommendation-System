{
 "cells": [
  {
   "cell_type": "code",
   "execution_count": 1,
   "metadata": {},
   "outputs": [],
   "source": [
    "import pandas as pd\n",
    "import numpy as np\n",
    "import matplotlib.pyplot as plt\n",
    "import seaborn as sns\n",
    "df = pd.read_csv(\"cleaned_data.csv\")"
   ]
   # Analyze data and compare different variables
  
  },
  {
   "cell_type": "code",
   "execution_count": 2,
   "metadata": {},
   "outputs": [
    {
     "data": {
      "text/html": [
       "<div>\n",
       "<style scoped>\n",
       "    .dataframe tbody tr th:only-of-type {\n",
       "        vertical-align: middle;\n",
       "    }\n",
       "\n",
       "    .dataframe tbody tr th {\n",
       "        vertical-align: top;\n",
       "    }\n",
       "\n",
       "    .dataframe thead th {\n",
       "        text-align: right;\n",
       "    }\n",
       "</style>\n",
       "<table border=\"1\" class=\"dataframe\">\n",
       "  <thead>\n",
       "    <tr style=\"text-align: right;\">\n",
       "      <th></th>\n",
       "      <th>Unnamed: 0</th>\n",
       "      <th>Unnamed: 0.1</th>\n",
       "      <th>movie</th>\n",
       "      <th>year</th>\n",
       "      <th>genres</th>\n",
       "      <th>directors</th>\n",
       "      <th>actors</th>\n",
       "      <th>timeMin</th>\n",
       "      <th>ratings</th>\n",
       "      <th>metascore</th>\n",
       "      <th>votes</th>\n",
       "      <th>us_grossMillions</th>\n",
       "    </tr>\n",
       "  </thead>\n",
       "  <tbody>\n",
       "    <tr>\n",
       "      <th>0</th>\n",
       "      <td>0</td>\n",
       "      <td>0</td>\n",
       "      <td>Once Upon a Time... In Hollywood</td>\n",
       "      <td>2019</td>\n",
       "      <td>Comedy Drama</td>\n",
       "      <td>Quentin Tarantino</td>\n",
       "      <td>['Leonardo DiCaprio', 'Brad Pitt', 'Margot Rob...</td>\n",
       "      <td>161</td>\n",
       "      <td>7.6</td>\n",
       "      <td>83</td>\n",
       "      <td>619491</td>\n",
       "      <td>142.50</td>\n",
       "    </tr>\n",
       "    <tr>\n",
       "      <th>1</th>\n",
       "      <td>1</td>\n",
       "      <td>1</td>\n",
       "      <td>Zack Snyder's Justice League</td>\n",
       "      <td>2021</td>\n",
       "      <td>Action Adventure Fantasy</td>\n",
       "      <td>Zack Snyder</td>\n",
       "      <td>['Henry Cavill', 'Ben Affleck', 'Gal Gadot', '...</td>\n",
       "      <td>242</td>\n",
       "      <td>8.1</td>\n",
       "      <td>54</td>\n",
       "      <td>324109</td>\n",
       "      <td>NaN</td>\n",
       "    </tr>\n",
       "    <tr>\n",
       "      <th>2</th>\n",
       "      <td>2</td>\n",
       "      <td>2</td>\n",
       "      <td>The Shawshank Redemption</td>\n",
       "      <td>1994</td>\n",
       "      <td>Drama</td>\n",
       "      <td>Frank Darabont</td>\n",
       "      <td>['Tim Robbins', 'Morgan Freeman', 'Bob Gunton'...</td>\n",
       "      <td>142</td>\n",
       "      <td>9.3</td>\n",
       "      <td>80</td>\n",
       "      <td>2440675</td>\n",
       "      <td>28.34</td>\n",
       "    </tr>\n",
       "    <tr>\n",
       "      <th>3</th>\n",
       "      <td>3</td>\n",
       "      <td>3</td>\n",
       "      <td>Knives Out</td>\n",
       "      <td>2019</td>\n",
       "      <td>Comedy Crime Drama</td>\n",
       "      <td>Rian Johnson</td>\n",
       "      <td>['Daniel Craig', 'Chris Evans', 'Ana de Armas'...</td>\n",
       "      <td>130</td>\n",
       "      <td>7.9</td>\n",
       "      <td>82</td>\n",
       "      <td>512829</td>\n",
       "      <td>165.36</td>\n",
       "    </tr>\n",
       "    <tr>\n",
       "      <th>4</th>\n",
       "      <td>4</td>\n",
       "      <td>4</td>\n",
       "      <td>Avengers: Endgame</td>\n",
       "      <td>2019</td>\n",
       "      <td>Action Adventure Drama</td>\n",
       "      <td>Anthony Russo</td>\n",
       "      <td>['Joe Russo', 'Robert Downey Jr.', 'Chris Evan...</td>\n",
       "      <td>181</td>\n",
       "      <td>8.4</td>\n",
       "      <td>78</td>\n",
       "      <td>919622</td>\n",
       "      <td>858.37</td>\n",
       "    </tr>\n",
       "  </tbody>\n",
       "</table>\n",
       "</div>"
      ],
      "text/plain": [
       "   Unnamed: 0  Unnamed: 0.1                             movie  year  \\\n",
       "0           0             0  Once Upon a Time... In Hollywood  2019   \n",
       "1           1             1      Zack Snyder's Justice League  2021   \n",
       "2           2             2          The Shawshank Redemption  1994   \n",
       "3           3             3                        Knives Out  2019   \n",
       "4           4             4                 Avengers: Endgame  2019   \n",
       "\n",
       "                     genres          directors  \\\n",
       "0              Comedy Drama  Quentin Tarantino   \n",
       "1  Action Adventure Fantasy        Zack Snyder   \n",
       "2                     Drama     Frank Darabont   \n",
       "3        Comedy Crime Drama       Rian Johnson   \n",
       "4    Action Adventure Drama      Anthony Russo   \n",
       "\n",
       "                                              actors  timeMin  ratings  \\\n",
       "0  ['Leonardo DiCaprio', 'Brad Pitt', 'Margot Rob...      161      7.6   \n",
       "1  ['Henry Cavill', 'Ben Affleck', 'Gal Gadot', '...      242      8.1   \n",
       "2  ['Tim Robbins', 'Morgan Freeman', 'Bob Gunton'...      142      9.3   \n",
       "3  ['Daniel Craig', 'Chris Evans', 'Ana de Armas'...      130      7.9   \n",
       "4  ['Joe Russo', 'Robert Downey Jr.', 'Chris Evan...      181      8.4   \n",
       "\n",
       "    metascore    votes  us_grossMillions  \n",
       "0  83           619491            142.50  \n",
       "1  54           324109               NaN  \n",
       "2  80          2440675             28.34  \n",
       "3  82           512829            165.36  \n",
       "4  78           919622            858.37  "
      ]
     },
     "execution_count": 2,
     "metadata": {},
     "output_type": "execute_result"
    }
   ],
   "source": [
    "df.head()"
   ]
  },
  {
   "cell_type": "code",
   "execution_count": 3,
   "metadata": {},
   "outputs": [
    {
     "data": {
      "text/html": [
       "<div>\n",
       "<style scoped>\n",
       "    .dataframe tbody tr th:only-of-type {\n",
       "        vertical-align: middle;\n",
       "    }\n",
       "\n",
       "    .dataframe tbody tr th {\n",
       "        vertical-align: top;\n",
       "    }\n",
       "\n",
       "    .dataframe thead th {\n",
       "        text-align: right;\n",
       "    }\n",
       "</style>\n",
       "<table border=\"1\" class=\"dataframe\">\n",
       "  <thead>\n",
       "    <tr style=\"text-align: right;\">\n",
       "      <th></th>\n",
       "      <th>movie</th>\n",
       "      <th>ratings</th>\n",
       "    </tr>\n",
       "  </thead>\n",
       "  <tbody>\n",
       "    <tr>\n",
       "      <th>2</th>\n",
       "      <td>The Shawshank Redemption</td>\n",
       "      <td>9.3</td>\n",
       "    </tr>\n",
       "    <tr>\n",
       "      <th>6</th>\n",
       "      <td>The Godfather</td>\n",
       "      <td>9.2</td>\n",
       "    </tr>\n",
       "    <tr>\n",
       "      <th>476</th>\n",
       "      <td>Soorarai Pottru</td>\n",
       "      <td>9.1</td>\n",
       "    </tr>\n",
       "    <tr>\n",
       "      <th>8</th>\n",
       "      <td>The Dark Knight</td>\n",
       "      <td>9.0</td>\n",
       "    </tr>\n",
       "    <tr>\n",
       "      <th>129</th>\n",
       "      <td>The Godfather: Part II</td>\n",
       "      <td>9.0</td>\n",
       "    </tr>\n",
       "    <tr>\n",
       "      <th>139</th>\n",
       "      <td>12 Angry Men</td>\n",
       "      <td>9.0</td>\n",
       "    </tr>\n",
       "    <tr>\n",
       "      <th>17</th>\n",
       "      <td>Pulp Fiction</td>\n",
       "      <td>8.9</td>\n",
       "    </tr>\n",
       "    <tr>\n",
       "      <th>748</th>\n",
       "      <td>Dara of Jasenovac</td>\n",
       "      <td>8.9</td>\n",
       "    </tr>\n",
       "    <tr>\n",
       "      <th>67</th>\n",
       "      <td>Schindler's List</td>\n",
       "      <td>8.9</td>\n",
       "    </tr>\n",
       "    <tr>\n",
       "      <th>74</th>\n",
       "      <td>The Lord of the Rings: The Return of the King</td>\n",
       "      <td>8.9</td>\n",
       "    </tr>\n",
       "  </tbody>\n",
       "</table>\n",
       "</div>"
      ],
      "text/plain": [
       "                                             movie  ratings\n",
       "2                         The Shawshank Redemption      9.3\n",
       "6                                    The Godfather      9.2\n",
       "476                                Soorarai Pottru      9.1\n",
       "8                                  The Dark Knight      9.0\n",
       "129                         The Godfather: Part II      9.0\n",
       "139                                   12 Angry Men      9.0\n",
       "17                                    Pulp Fiction      8.9\n",
       "748                              Dara of Jasenovac      8.9\n",
       "67                                Schindler's List      8.9\n",
       "74   The Lord of the Rings: The Return of the King      8.9"
      ]
     },
     "execution_count": 3,
     "metadata": {},
     "output_type": "execute_result"
    }
   ],
   "source": [
    "mini_df1 = df[['movie', 'ratings']]\n",
    "mini_df1.sort_values('ratings', ascending=False).head(10)"
   ]
  },
  {
   "cell_type": "code",
   "execution_count": 4,
   "metadata": {},
   "outputs": [
    {
     "data": {
      "text/html": [
       "<div>\n",
       "<style scoped>\n",
       "    .dataframe tbody tr th:only-of-type {\n",
       "        vertical-align: middle;\n",
       "    }\n",
       "\n",
       "    .dataframe tbody tr th {\n",
       "        vertical-align: top;\n",
       "    }\n",
       "\n",
       "    .dataframe thead th {\n",
       "        text-align: right;\n",
       "    }\n",
       "</style>\n",
       "<table border=\"1\" class=\"dataframe\">\n",
       "  <thead>\n",
       "    <tr style=\"text-align: right;\">\n",
       "      <th></th>\n",
       "      <th>movie</th>\n",
       "      <th>us_grossMillions</th>\n",
       "    </tr>\n",
       "  </thead>\n",
       "  <tbody>\n",
       "    <tr>\n",
       "      <th>238</th>\n",
       "      <td>Star Wars: Episode VII - The Force Awakens</td>\n",
       "      <td>936.66</td>\n",
       "    </tr>\n",
       "    <tr>\n",
       "      <th>4</th>\n",
       "      <td>Avengers: Endgame</td>\n",
       "      <td>858.37</td>\n",
       "    </tr>\n",
       "    <tr>\n",
       "      <th>76</th>\n",
       "      <td>Avatar</td>\n",
       "      <td>760.51</td>\n",
       "    </tr>\n",
       "    <tr>\n",
       "      <th>30</th>\n",
       "      <td>Avengers: Infinity War</td>\n",
       "      <td>678.82</td>\n",
       "    </tr>\n",
       "    <tr>\n",
       "      <th>28</th>\n",
       "      <td>Titanic</td>\n",
       "      <td>659.33</td>\n",
       "    </tr>\n",
       "    <tr>\n",
       "      <th>80</th>\n",
       "      <td>The Avengers</td>\n",
       "      <td>623.28</td>\n",
       "    </tr>\n",
       "    <tr>\n",
       "      <th>338</th>\n",
       "      <td>Incredibles 2</td>\n",
       "      <td>608.58</td>\n",
       "    </tr>\n",
       "    <tr>\n",
       "      <th>8</th>\n",
       "      <td>The Dark Knight</td>\n",
       "      <td>534.86</td>\n",
       "    </tr>\n",
       "    <tr>\n",
       "      <th>201</th>\n",
       "      <td>Rogue One: A Star Wars Story</td>\n",
       "      <td>532.18</td>\n",
       "    </tr>\n",
       "    <tr>\n",
       "      <th>65</th>\n",
       "      <td>The Dark Knight Rises</td>\n",
       "      <td>448.14</td>\n",
       "    </tr>\n",
       "  </tbody>\n",
       "</table>\n",
       "</div>"
      ],
      "text/plain": [
       "                                          movie  us_grossMillions\n",
       "238  Star Wars: Episode VII - The Force Awakens            936.66\n",
       "4                             Avengers: Endgame            858.37\n",
       "76                                       Avatar            760.51\n",
       "30                       Avengers: Infinity War            678.82\n",
       "28                                      Titanic            659.33\n",
       "80                                 The Avengers            623.28\n",
       "338                               Incredibles 2            608.58\n",
       "8                               The Dark Knight            534.86\n",
       "201                Rogue One: A Star Wars Story            532.18\n",
       "65                        The Dark Knight Rises            448.14"
      ]
     },
     "execution_count": 4,
     "metadata": {},
     "output_type": "execute_result"
    }
   ],
   "source": [
    "mini_df2 = df[['movie', 'us_grossMillions']]\n",
    "mini_df2.sort_values('us_grossMillions', ascending= False).head(10)"
   ]
  },
  {
   "cell_type": "code",
   "execution_count": 5,
   "metadata": {},
   "outputs": [
    {
     "data": {
      "text/html": [
       "<div>\n",
       "<style scoped>\n",
       "    .dataframe tbody tr th:only-of-type {\n",
       "        vertical-align: middle;\n",
       "    }\n",
       "\n",
       "    .dataframe tbody tr th {\n",
       "        vertical-align: top;\n",
       "    }\n",
       "\n",
       "    .dataframe thead th {\n",
       "        text-align: right;\n",
       "    }\n",
       "</style>\n",
       "<table border=\"1\" class=\"dataframe\">\n",
       "  <thead>\n",
       "    <tr style=\"text-align: right;\">\n",
       "      <th></th>\n",
       "      <th>genres</th>\n",
       "      <th>ratings</th>\n",
       "    </tr>\n",
       "  </thead>\n",
       "  <tbody>\n",
       "    <tr>\n",
       "      <th>2</th>\n",
       "      <td>Drama</td>\n",
       "      <td>9.3</td>\n",
       "    </tr>\n",
       "    <tr>\n",
       "      <th>6</th>\n",
       "      <td>Crime Drama</td>\n",
       "      <td>9.2</td>\n",
       "    </tr>\n",
       "    <tr>\n",
       "      <th>476</th>\n",
       "      <td>Drama</td>\n",
       "      <td>9.1</td>\n",
       "    </tr>\n",
       "    <tr>\n",
       "      <th>8</th>\n",
       "      <td>Action Crime Drama</td>\n",
       "      <td>9.0</td>\n",
       "    </tr>\n",
       "    <tr>\n",
       "      <th>129</th>\n",
       "      <td>Crime Drama</td>\n",
       "      <td>9.0</td>\n",
       "    </tr>\n",
       "    <tr>\n",
       "      <th>139</th>\n",
       "      <td>Crime Drama</td>\n",
       "      <td>9.0</td>\n",
       "    </tr>\n",
       "    <tr>\n",
       "      <th>17</th>\n",
       "      <td>Crime Drama</td>\n",
       "      <td>8.9</td>\n",
       "    </tr>\n",
       "    <tr>\n",
       "      <th>748</th>\n",
       "      <td>Drama War</td>\n",
       "      <td>8.9</td>\n",
       "    </tr>\n",
       "    <tr>\n",
       "      <th>67</th>\n",
       "      <td>Biography Drama History</td>\n",
       "      <td>8.9</td>\n",
       "    </tr>\n",
       "    <tr>\n",
       "      <th>74</th>\n",
       "      <td>Action Adventure Drama</td>\n",
       "      <td>8.9</td>\n",
       "    </tr>\n",
       "  </tbody>\n",
       "</table>\n",
       "</div>"
      ],
      "text/plain": [
       "                      genres  ratings\n",
       "2                      Drama      9.3\n",
       "6                Crime Drama      9.2\n",
       "476                    Drama      9.1\n",
       "8         Action Crime Drama      9.0\n",
       "129              Crime Drama      9.0\n",
       "139              Crime Drama      9.0\n",
       "17               Crime Drama      8.9\n",
       "748                Drama War      8.9\n",
       "67   Biography Drama History      8.9\n",
       "74    Action Adventure Drama      8.9"
      ]
     },
     "execution_count": 5,
     "metadata": {},
     "output_type": "execute_result"
    }
   ],
   "source": [
    "genredf = df[['genres', 'ratings']]\n",
    "genredf.sort_values('ratings', ascending = False).head(10)"
   ]
  },
  {
   "cell_type": "code",
   "execution_count": 6,
   "metadata": {},
   "outputs": [
    {
     "data": {
      "text/plain": [
       "(array([273., 252., 276.,  67.,  76.,  36.,   5.,   9.,   4.,   2.]),\n",
       " array([7.6 , 7.77, 7.94, 8.11, 8.28, 8.45, 8.62, 8.79, 8.96, 9.13, 9.3 ]),\n",
       " <a list of 10 Patch objects>)"
      ]
     },
     "execution_count": 6,
     "metadata": {},
     "output_type": "execute_result"
    },
    {
     "data": {
      "image/png": "iVBORw0KGgoAAAANSUhEUgAAAXcAAAD4CAYAAAAXUaZHAAAABHNCSVQICAgIfAhkiAAAAAlwSFlzAAALEgAACxIB0t1+/AAAADh0RVh0U29mdHdhcmUAbWF0cGxvdGxpYiB2ZXJzaW9uMy4xLjMsIGh0dHA6Ly9tYXRwbG90bGliLm9yZy+AADFEAAAQTElEQVR4nO3df4xlZX3H8fenYFHU6OIuBBd00WxbsVGgE0oksRqsAkYX29osrbpYmtUWG21NU9Q/tE1IMfVHa9rSrkLExoJUMWwjVRFprVXQwfBrWZEVVlh3y45gUUNCy/rtH/cMPczOztzZmTt39un7ldzcc57znDnfPXvmM2eee86ZVBWSpLb8zLgLkCQtPcNdkhpkuEtSgwx3SWqQ4S5JDTp83AUArF69utatWzfuMiTpkHLzzTf/oKrWzLZsRYT7unXrmJycHHcZknRISfK9Ay1zWEaSGmS4S1KDDHdJapDhLkkNMtwlqUGGuyQ1yHCXpAYZ7pLUIMNdkhq0Iu5Q1cKsu/BzY9v2zotfPbZtSxqeZ+6S1KBD/szds1hJ2p9n7pLUIMNdkhpkuEtSgwx3SWqQ4S5JDTLcJalBhrskNchwl6QGGe6S1CDDXZIaZLhLUoMMd0lqkOEuSQ2aN9yTHJ/khiTbk2xL8vau/X1Jvp/klu51dm+ddyXZkeSuJK8a5T9AkrS/YR75+xjwzqr6VpKnAzcnua5b9uGq+kC/c5ITgY3AC4FnA19K8nNVtW8pC5ckHdi84V5Ve4A93fSPk2wH1s6xygbgyqp6FLg3yQ7gVODrS1DvijLOZ8lL0lwWNOaeZB1wMnBT1/S2JLcluSzJqq5tLXB/b7VdzPLDIMnmJJNJJqemphZcuCTpwIYO9yRPAz4DvKOqfgRcAjwfOInBmf0Hp7vOsnrt11C1paomqmpizZo1Cy5cknRgQ4V7kicxCPZPVtXVAFX1QFXtq6qfAh9lMPQCgzP143urHwfsXrqSJUnzGeZqmQCXAtur6kO99mN73V4H3NFNbwU2JjkiyQnAeuAbS1eyJGk+w1wtczrwRuD2JLd0be8Gzk1yEoMhl53AWwCqaluSq4A7GVxpc4FXykjS8hrmapmvMvs4+rVzrHMRcNEi6pIkLYJ3qEpSgwx3SWqQ4S5JDTLcJalBhrskNchwl6QGGe6S1CDDXZIaZLhLUoMMd0lqkOEuSQ0y3CWpQYa7JDXIcJekBhnuktQgw12SGmS4S1KDDHdJapDhLkkNMtwlqUGGuyQ1yHCXpAYZ7pLUIMNdkhpkuEtSgwx3SWqQ4S5JDTLcJalBhrskNWjecE9yfJIbkmxPsi3J27v2o5Jcl+Tu7n1V154kH0myI8ltSU4Z9T9CkvREw5y5Pwa8s6peAJwGXJDkROBC4PqqWg9c380DnAWs716bgUuWvGpJ0pzmDfeq2lNV3+qmfwxsB9YCG4DLu26XA+d00xuAT9TAjcAzkxy75JVLkg5oQWPuSdYBJwM3AcdU1R4Y/AAAju66rQXu7622q2ub+bU2J5lMMjk1NbXwyiVJBzR0uCd5GvAZ4B1V9aO5us7SVvs1VG2pqomqmlizZs2wZUiShjBUuCd5EoNg/2RVXd01PzA93NK97+3adwHH91Y/Dti9NOVKkoYxzNUyAS4FtlfVh3qLtgKbuulNwDW99jd1V82cBjw8PXwjSVoehw/R53TgjcDtSW7p2t4NXAxcleR84D7g9d2ya4GzgR3AI8Cbl7RiSdK85g33qvoqs4+jA5wxS/8CLlhkXZKkRfAOVUlqkOEuSQ0y3CWpQYa7JDXIcJekBhnuktQgw12SGmS4S1KDDHdJapDhLkkNMtwlqUGGuyQ1yHCXpAYZ7pLUIMNdkhpkuEtSgwx3SWqQ4S5JDTLcJalBhrskNchwl6QGGe6S1CDDXZIaZLhLUoMMd0lqkOEuSQ0y3CWpQYa7JDVo3nBPclmSvUnu6LW9L8n3k9zSvc7uLXtXkh1J7kryqlEVLkk6sGHO3D8OnDlL+4er6qTudS1AkhOBjcALu3X+NslhS1WsJGk484Z7VX0FeGjIr7cBuLKqHq2qe4EdwKmLqE+SdBAWM+b+tiS3dcM2q7q2tcD9vT67urb9JNmcZDLJ5NTU1CLKkCTNdLDhfgnwfOAkYA/wwa49s/St2b5AVW2pqomqmlizZs1BliFJms1BhXtVPVBV+6rqp8BH+b+hl13A8b2uxwG7F1eiJGmhDirckxzbm30dMH0lzVZgY5IjkpwArAe+sbgSJUkLdfh8HZJcAbwMWJ1kF/Be4GVJTmIw5LITeAtAVW1LchVwJ/AYcEFV7RtN6ZKkA5k33Kvq3FmaL52j/0XARYspSpK0ON6hKkkNMtwlqUGGuyQ1yHCXpAYZ7pLUIMNdkhpkuEtSgwx3SWqQ4S5JDTLcJalBhrskNchwl6QGGe6S1CDDXZIaZLhLUoMMd0lqkOEuSQ0y3CWpQYa7JDXIcJekBhnuktQgw12SGmS4S1KDDHdJapDhLkkNMtwlqUGGuyQ1yHCXpAYZ7pLUoHnDPcllSfYmuaPXdlSS65Lc3b2v6tqT5CNJdiS5LckpoyxekjS7Yc7cPw6cOaPtQuD6qloPXN/NA5wFrO9em4FLlqZMSdJCzBvuVfUV4KEZzRuAy7vpy4Fzeu2fqIEbgWcmOXapipUkDedgx9yPqao9AN370V37WuD+Xr9dXdt+kmxOMplkcmpq6iDLkCTNZqk/UM0sbTVbx6raUlUTVTWxZs2aJS5Dkv5/O9hwf2B6uKV739u17wKO7/U7Dth98OVJkg7GwYb7VmBTN70JuKbX/qbuqpnTgIenh28kScvn8Pk6JLkCeBmwOsku4L3AxcBVSc4H7gNe33W/Fjgb2AE8Arx5BDVLkuYxb7hX1bkHWHTGLH0LuGCxRUmSFsc7VCWpQYa7JDXIcJekBhnuktQgw12SGmS4S1KDDHdJapDhLkkNMtwlqUGGuyQ1yHCXpAYZ7pLUoHkfHCatBOsu/NzYtr3z4lePbdvSwfLMXZIaZLhLUoMMd0lqkOEuSQ0y3CWpQYa7JDXISyG1IOO8JFHS8Dxzl6QGGe6S1CDDXZIaZLhLUoMMd0lqkOEuSQ0y3CWpQYa7JDVoUTcxJdkJ/BjYBzxWVRNJjgI+BawDdgK/WVU/XFyZkqSFWIoz95dX1UlVNdHNXwhcX1Xrgeu7eUnSMhrFsMwG4PJu+nLgnBFsQ5I0h8WGewFfTHJzks1d2zFVtQegez96thWTbE4ymWRyampqkWVIkvoW++Cw06tqd5KjgeuSfHvYFatqC7AFYGJiohZZhySpZ1Fn7lW1u3vfC3wWOBV4IMmxAN373sUWKUlamIMO9yRPTfL06WnglcAdwFZgU9dtE3DNYouUJC3MYoZljgE+m2T66/xjVX0+yTeBq5KcD9wHvH7xZUqSFuKgw72q7gFePEv7g8AZiylKkrQ43qEqSQ0y3CWpQYa7JDXIcJekBhnuktSgxd6hKjVv3YWfG8t2d1786rFsV23wzF2SGmS4S1KDDHdJapDhLkkNMtwlqUGGuyQ1yHCXpAYZ7pLUIMNdkhpkuEtSgwx3SWqQ4S5JDTLcJalBhrskNchwl6QGGe6S1CDDXZIaZLhLUoMMd0lqkH9DVdITjOtvxoJ/N3YpeeYuSQ0y3CWpQQ7LSCvUOIdHdOgbWbgnORP4K+Aw4GNVdfGotiWpDeP6gdbiWP9Iwj3JYcDfAL8K7AK+mWRrVd05iu1J0mK0+CHyqMbcTwV2VNU9VfXfwJXAhhFtS5I0w6iGZdYC9/fmdwG/3O+QZDOwuZv9SZK7RlTLUloN/GDcRSyQNS+PQ63mQ61eaLTmvH9RX/+5B1owqnDPLG31hJmqLcCWEW1/JJJMVtXEuOtYCGteHodazYdavWDNCzWqYZldwPG9+eOA3SPaliRphlGF+zeB9UlOSPKzwEZg64i2JUmaYSTDMlX1WJK3AV9gcCnkZVW1bRTbWmaH1DBSx5qXx6FW86FWL1jzgqSq5u8lSTqk+PgBSWqQ4S5JDTLcgSQ/n+SW3utHSd4xo88f95bfkWRfkqO6ZTuT3N4tm1zGuv8wybauniuSPHnG8iOSfCrJjiQ3JVnXW/aurv2uJK9aIfX+UZI7k9yW5Pokz+0t29fb/8v24fwQNZ+XZKpX2+/2lm1Kcnf32rSCav5wr97vJPmv3rJx7ee3d/Vum/m91y1Pko90x+xtSU7pLVv2/TxEvb/d1Xlbkq8leXFv2fLkRVX56r0YfAD8n8Bz5+jzGuDLvfmdwOplrnMtcC/wlG7+KuC8GX1+H/i7bnoj8Klu+kTgVuAI4ATgu8BhK6DelwNHdtO/N11vN/+TMRwLw9R8HvDXs6x7FHBP976qm161Emqe0f8PGFzwMM79/IvAHcCRDC7y+BKwfkafs4F/YXAPzWnATePaz0PW+5LpOoCzpuvt5pclLzxz398ZwHer6ntz9DkXuGKZ6pnL4cBTkhzO4ECbeS/BBuDybvrTwBlJ0rVfWVWPVtW9wA4Gj4wYa71VdUNVPdLN3sjg/ohxm28fH8irgOuq6qGq+iFwHXDmiGqcaSE1r4Rj+QXAjVX1SFU9Bvwb8LoZfTYAn6iBG4FnJjmW8ezneeutqq919cCYjmXDfX8bmeNgT3Ikg4PnM73mAr6Y5ObusQojV1XfBz4A3AfsAR6uqi/O6Pb4YyC6g/Bh4FnM/niItSug3r7zGZypTXtykskkNyY5Z4SlPm4BNf969+v3p5NM37y37PsYFrafu2GvE4Av95qXfT8zOAt+aZJndd9fZ/PEmyDhwPtzHPt5mHr7Zh7Ly5IXhntPBjdcvRb4pzm6vQb4j6p6qNd2elWdwuDXrwuSvHSEZQKQZBWDs5kTgGcDT03yhpndZlm15mgfmSHrne77BmAC+Ite83NqcBv3bwF/meT5o6y3q2OYmv8ZWFdVL2Lw6/n0b0rLvo9hYfuZwYnMp6tqX69t2fdzVW0H3s/grPvzDIYMH5vRbcUcy0PWC0CSlzMI9z/pNS9LXhjuT3QW8K2qemCOPvud2VfV7u59L/BZlmeI4xXAvVU1VVX/A1zNYJyv7/HHQHS/oj8DeIjxPB5imHpJ8grgPcBrq+rR6fbePr4H+Ffg5BHXO1TNVfVgr86PAr/UTY/rERxD7efOXMfycu5nqurSqjqlql7K4Bi9e0aXA+3PseznIeolyYuAjwEbqurB3rrLkheG+xPNOf6Y5BnArwDX9NqemuTp09PAKxn82jZq9wGnJTmyG0c/A9g+o89WYPrqgd9g8CFwde0bM7ia5gRgPfCNcdeb5GTg7xkE+95e+6okR3TTq4HTgeX42wDD1Hxsb/a1veVfAF7Z1b6KwXHxhZVQMwyuEGPwAeTXe23j2s8kObp7fw7wa+z/fbgVeFN31cxpDIab9jCm/TxfvV371cAbq+o7vfbly4tRf2J7qLwYfPD0IPCMXttbgbf25s9j8EFkf73nMfi17FZgG/CeZaz5T4FvdwfHPzC4+uXPGIQjwJMZDDHtYBDez+ut+x4GV8ncBZy1Qur9EvAAcEv32tq1vwS4vdvHtwPnr6B9/Ofd//utwA3AL/TW/Z1u3+8A3rxSau76vA+4eMZ649zP/87gB8mtwBld2+PffwyGX/6mO2ZvBybGuZ+HqPdjwA97x/Jk175seeHjBySpQQ7LSFKDDHdJapDhLkkNMtwlqUGGuyQ1yHCXpAYZ7pLUoP8FiSJLLVETOwoAAAAASUVORK5CYII=\n",
      "text/plain": [
       "<Figure size 432x288 with 1 Axes>"
      ]
     },
     "metadata": {
      "needs_background": "light"
     },
     "output_type": "display_data"
    }
   ],
   "source": [
    "plt.hist(df['ratings'])"
   ]
  },
  {
   "cell_type": "code",
   "execution_count": 7,
   "metadata": {},
   "outputs": [
    {
     "data": {
      "text/plain": [
       "(array([664., 148.,  95.,  47.,  21.,  11.,   6.,   5.,   1.,   2.]),\n",
       " array([  25312. ,  266848.3,  508384.6,  749920.9,  991457.2, 1232993.5,\n",
       "        1474529.8, 1716066.1, 1957602.4, 2199138.7, 2440675. ]),\n",
       " <a list of 10 Patch objects>)"
      ]
     },
     "execution_count": 7,
     "metadata": {},
     "output_type": "execute_result"
    },
    {
     "data": {
      "image/png": "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\n",
      "text/plain": [
       "<Figure size 432x288 with 1 Axes>"
      ]
     },
     "metadata": {
      "needs_background": "light"
     },
     "output_type": "display_data"
    }
   ],
   "source": [
    "plt.hist(df['votes'])"
   ]
  },
  {
   "cell_type": "code",
   "execution_count": 8,
   "metadata": {},
   "outputs": [
    {
     "data": {
      "image/png": "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\n",
      "text/plain": [
       "<Figure size 432x288 with 1 Axes>"
      ]
     },
     "metadata": {
      "needs_background": "light"
     },
     "output_type": "display_data"
    }
   ],
   "source": [
    "sns.countplot(data=df, y='year')\n",
    "plt.title('Countplot for year')\n",
    "plt.show()"
   ]
  },
  {
   "cell_type": "code",
   "execution_count": 9,
   "metadata": {},
   "outputs": [
    {
     "data": {
      "text/plain": [
       "count    1000.000000\n",
       "mean        7.957600\n",
       "std         0.277668\n",
       "min         7.600000\n",
       "25%         7.700000\n",
       "50%         7.900000\n",
       "75%         8.100000\n",
       "max         9.300000\n",
       "Name: ratings, dtype: float64"
      ]
     },
     "execution_count": 9,
     "metadata": {},
     "output_type": "execute_result"
    }
   ],
   "source": [
    "df['ratings'].describe()"
   ]
  },
  {
   "cell_type": "code",
   "execution_count": 10,
   "metadata": {},
   "outputs": [
    {
     "data": {
      "text/plain": [
       "count    1.000000e+03\n",
       "mean     2.829942e+05\n",
       "std      3.402726e+05\n",
       "min      2.531200e+04\n",
       "25%      5.632900e+04\n",
       "50%      1.373550e+05\n",
       "75%      3.879528e+05\n",
       "max      2.440675e+06\n",
       "Name: votes, dtype: float64"
      ]
     },
     "execution_count": 10,
     "metadata": {},
     "output_type": "execute_result"
    }
   ],
   "source": [
    "df['votes'].describe()"
   ]
  },
  {
   "cell_type": "code",
   "execution_count": 11,
   "metadata": {},
   "outputs": [
    {
     "data": {
      "text/plain": [
       "count    825.000000\n",
       "mean      67.656327\n",
       "std      110.131231\n",
       "min        0.000000\n",
       "25%        3.030000\n",
       "50%       22.460000\n",
       "75%       80.500000\n",
       "max      936.660000\n",
       "Name: us_grossMillions, dtype: float64"
      ]
     },
     "execution_count": 11,
     "metadata": {},
     "output_type": "execute_result"
    }
   ],
   "source": [
    "df['us_grossMillions'].describe()"
   ]
  },
  {
   "cell_type": "code",
   "execution_count": 12,
   "metadata": {},
   "outputs": [
    {
     "data": {
      "text/plain": [
       "282994.199"
      ]
     },
     "execution_count": 12,
     "metadata": {},
     "output_type": "execute_result"
    }
   ],
   "source": [
    "votes = df[df['votes'].notnull()]['votes'].astype('int')\n",
    "C = votes.mean()\n",
    "C"
   ]
  },
  {
   "cell_type": "code",
   "execution_count": 13,
   "metadata": {},
   "outputs": [
    {
     "data": {
      "text/plain": [
       "7.481"
      ]
     },
     "execution_count": 13,
     "metadata": {},
     "output_type": "execute_result"
    }
   ],
   "source": [
    "ratings = df[df['ratings'].notnull()]['ratings'].astype('int')\n",
    "A = ratings.mean()\n",
    "A"
   ]
  },
  {
   "cell_type": "code",
   "execution_count": 14,
   "metadata": {},
   "outputs": [
    {
     "data": {
      "text/html": [
       "<div>\n",
       "<style scoped>\n",
       "    .dataframe tbody tr th:only-of-type {\n",
       "        vertical-align: middle;\n",
       "    }\n",
       "\n",
       "    .dataframe tbody tr th {\n",
       "        vertical-align: top;\n",
       "    }\n",
       "\n",
       "    .dataframe thead th {\n",
       "        text-align: right;\n",
       "    }\n",
       "</style>\n",
       "<table border=\"1\" class=\"dataframe\">\n",
       "  <thead>\n",
       "    <tr style=\"text-align: right;\">\n",
       "      <th></th>\n",
       "      <th>genres</th>\n",
       "      <th>movie</th>\n",
       "    </tr>\n",
       "  </thead>\n",
       "  <tbody>\n",
       "    <tr>\n",
       "      <th>0</th>\n",
       "      <td>Drama</td>\n",
       "      <td>89</td>\n",
       "    </tr>\n",
       "    <tr>\n",
       "      <th>1</th>\n",
       "      <td>Comedy Drama</td>\n",
       "      <td>36</td>\n",
       "    </tr>\n",
       "    <tr>\n",
       "      <th>2</th>\n",
       "      <td>Drama Romance</td>\n",
       "      <td>35</td>\n",
       "    </tr>\n",
       "    <tr>\n",
       "      <th>3</th>\n",
       "      <td>Comedy Drama Romance</td>\n",
       "      <td>31</td>\n",
       "    </tr>\n",
       "    <tr>\n",
       "      <th>4</th>\n",
       "      <td>Action Crime Drama</td>\n",
       "      <td>29</td>\n",
       "    </tr>\n",
       "    <tr>\n",
       "      <th>5</th>\n",
       "      <td>Crime Drama Thriller</td>\n",
       "      <td>29</td>\n",
       "    </tr>\n",
       "    <tr>\n",
       "      <th>6</th>\n",
       "      <td>Crime Drama Mystery</td>\n",
       "      <td>29</td>\n",
       "    </tr>\n",
       "    <tr>\n",
       "      <th>7</th>\n",
       "      <td>Animation Adventure Comedy</td>\n",
       "      <td>28</td>\n",
       "    </tr>\n",
       "    <tr>\n",
       "      <th>8</th>\n",
       "      <td>Biography Drama History</td>\n",
       "      <td>28</td>\n",
       "    </tr>\n",
       "    <tr>\n",
       "      <th>9</th>\n",
       "      <td>Crime Drama</td>\n",
       "      <td>26</td>\n",
       "    </tr>\n",
       "  </tbody>\n",
       "</table>\n",
       "</div>"
      ],
      "text/plain": [
       "                       genres  movie\n",
       "0                       Drama     89\n",
       "1                Comedy Drama     36\n",
       "2               Drama Romance     35\n",
       "3        Comedy Drama Romance     31\n",
       "4          Action Crime Drama     29\n",
       "5        Crime Drama Thriller     29\n",
       "6         Crime Drama Mystery     29\n",
       "7  Animation Adventure Comedy     28\n",
       "8     Biography Drama History     28\n",
       "9                 Crime Drama     26"
      ]
     },
     "execution_count": 14,
     "metadata": {},
     "output_type": "execute_result"
    }
   ],
   "source": [
    "pop_gen = pd.DataFrame(df['genres'].value_counts()).reset_index()\n",
    "pop_gen.columns = ['genres', 'movie']\n",
    "pop_gen.head(10)"
   ]
  },
  {
   "cell_type": "code",
   "execution_count": 15,
   "metadata": {},
   "outputs": [
    {
     "data": {
      "image/png": "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\n",
      "text/plain": [
       "<Figure size 1296x576 with 1 Axes>"
      ]
     },
     "metadata": {
      "needs_background": "light"
     },
     "output_type": "display_data"
    }
   ],
   "source": [
    "plt.figure(figsize=(18,8))\n",
    "sns.barplot(x='genres', y='movie', data=pop_gen.head(15))\n",
    "plt.show()"
   ]
  },
  {
   "cell_type": "code",
   "execution_count": 16,
   "metadata": {},
   "outputs": [
    {
     "data": {
      "text/html": [
       "<div>\n",
       "<style scoped>\n",
       "    .dataframe tbody tr th:only-of-type {\n",
       "        vertical-align: middle;\n",
       "    }\n",
       "\n",
       "    .dataframe tbody tr th {\n",
       "        vertical-align: top;\n",
       "    }\n",
       "\n",
       "    .dataframe thead th {\n",
       "        text-align: right;\n",
       "    }\n",
       "</style>\n",
       "<table border=\"1\" class=\"dataframe\">\n",
       "  <thead>\n",
       "    <tr style=\"text-align: right;\">\n",
       "      <th></th>\n",
       "      <th>ratings</th>\n",
       "      <th>votes</th>\n",
       "    </tr>\n",
       "  </thead>\n",
       "  <tbody>\n",
       "    <tr>\n",
       "      <th>2</th>\n",
       "      <td>9.3</td>\n",
       "      <td>2440675</td>\n",
       "    </tr>\n",
       "    <tr>\n",
       "      <th>8</th>\n",
       "      <td>9.0</td>\n",
       "      <td>2396753</td>\n",
       "    </tr>\n",
       "    <tr>\n",
       "      <th>23</th>\n",
       "      <td>8.8</td>\n",
       "      <td>2150695</td>\n",
       "    </tr>\n",
       "    <tr>\n",
       "      <th>33</th>\n",
       "      <td>8.8</td>\n",
       "      <td>1924467</td>\n",
       "    </tr>\n",
       "    <tr>\n",
       "      <th>17</th>\n",
       "      <td>8.9</td>\n",
       "      <td>1893282</td>\n",
       "    </tr>\n",
       "    <tr>\n",
       "      <th>9</th>\n",
       "      <td>8.8</td>\n",
       "      <td>1887139</td>\n",
       "    </tr>\n",
       "    <tr>\n",
       "      <th>14</th>\n",
       "      <td>8.7</td>\n",
       "      <td>1738324</td>\n",
       "    </tr>\n",
       "    <tr>\n",
       "      <th>15</th>\n",
       "      <td>8.8</td>\n",
       "      <td>1718386</td>\n",
       "    </tr>\n",
       "    <tr>\n",
       "      <th>74</th>\n",
       "      <td>8.9</td>\n",
       "      <td>1697161</td>\n",
       "    </tr>\n",
       "    <tr>\n",
       "      <th>6</th>\n",
       "      <td>9.2</td>\n",
       "      <td>1689648</td>\n",
       "    </tr>\n",
       "  </tbody>\n",
       "</table>\n",
       "</div>"
      ],
      "text/plain": [
       "    ratings    votes\n",
       "2       9.3  2440675\n",
       "8       9.0  2396753\n",
       "23      8.8  2150695\n",
       "33      8.8  1924467\n",
       "17      8.9  1893282\n",
       "9       8.8  1887139\n",
       "14      8.7  1738324\n",
       "15      8.8  1718386\n",
       "74      8.9  1697161\n",
       "6       9.2  1689648"
      ]
     },
     "execution_count": 16,
     "metadata": {},
     "output_type": "execute_result"
    }
   ],
   "source": [
    "mini_df2 = df[['ratings', 'votes']]\n",
    "mini_df2.sort_values('votes', ascending= False).head(10)"
   ]
  },
  {
   "cell_type": "code",
   "execution_count": 17,
   "metadata": {},
   "outputs": [
    {
     "data": {
      "text/plain": [
       "7.7    165\n",
       "7.8    145\n",
       "8.0    140\n",
       "8.1    136\n",
       "7.6    108\n",
       "7.9    107\n",
       "8.2     67\n",
       "8.3     45\n",
       "8.4     31\n",
       "8.5     22\n",
       "8.6     14\n",
       "8.8      5\n",
       "8.7      5\n",
       "8.9      4\n",
       "9.0      3\n",
       "9.3      1\n",
       "9.2      1\n",
       "9.1      1\n",
       "Name: ratings, dtype: int64"
      ]
     },
     "execution_count": 17,
     "metadata": {},
     "output_type": "execute_result"
    }
   ],
   "source": [
    "df['ratings'].value_counts()"
   ]
  },
  {
   "cell_type": "code",
   "execution_count": 20,
   "metadata": {},
   "outputs": [],
   "source": [
    "df.to_csv('updated_Data.csv')"
   ]
  },
  {
   "cell_type": "code",
   "execution_count": null,
   "metadata": {},
   "outputs": [],
   "source": []
  },
  {
   "cell_type": "code",
   "execution_count": null,
   "metadata": {},
   "outputs": [],
   "source": []
  }
 ],
 "metadata": {
  "kernelspec": {
   "display_name": "Python 3",
   "language": "python",
   "name": "python3"
  },
  "language_info": {
   "codemirror_mode": {
    "name": "ipython",
    "version": 3
   },
   "file_extension": ".py",
   "mimetype": "text/x-python",
   "name": "python",
   "nbconvert_exporter": "python",
   "pygments_lexer": "ipython3",
   "version": "3.7.6"
  }
 },
 "nbformat": 4,
 "nbformat_minor": 4
}
